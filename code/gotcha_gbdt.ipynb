{
 "cells": [
  {
   "cell_type": "code",
   "execution_count": 17,
   "metadata": {},
   "outputs": [
    {
     "ename": "AttributeError",
     "evalue": "type object '_catboost._FloatArrayWrapper' has no attribute '__reduce_cython__'",
     "output_type": "error",
     "traceback": [
      "\u001b[1;31m---------------------------------------------------------------------------\u001b[0m",
      "\u001b[1;31mAttributeError\u001b[0m                            Traceback (most recent call last)",
      "\u001b[1;32m<ipython-input-17-20f4f5c96047>\u001b[0m in \u001b[0;36m<module>\u001b[1;34m()\u001b[0m\n\u001b[0;32m     18\u001b[0m \u001b[1;33m\u001b[0m\u001b[0m\n\u001b[0;32m     19\u001b[0m \u001b[1;33m\u001b[0m\u001b[0m\n\u001b[1;32m---> 20\u001b[1;33m \u001b[1;32mfrom\u001b[0m \u001b[0mutils\u001b[0m \u001b[1;32mimport\u001b[0m \u001b[0mmake_dir\u001b[0m\u001b[1;33m,\u001b[0m \u001b[0mscore\u001b[0m\u001b[1;33m,\u001b[0m \u001b[0mtimer\u001b[0m\u001b[1;33m,\u001b[0m \u001b[0mkf_lgbm\u001b[0m\u001b[1;33m,\u001b[0m \u001b[0mkf_xgbm\u001b[0m\u001b[1;33m,\u001b[0m \u001b[0mkf_ctbm\u001b[0m\u001b[1;33m,\u001b[0m \u001b[0mkf_sklearn\u001b[0m\u001b[1;33m\u001b[0m\u001b[0m\n\u001b[0m",
      "\u001b[1;32m~\\yuekangwei\\credit-competition\\code\\utils.py\u001b[0m in \u001b[0;36m<module>\u001b[1;34m()\u001b[0m\n\u001b[0;32m     11\u001b[0m \u001b[1;32mimport\u001b[0m \u001b[0mlightgbm\u001b[0m \u001b[1;32mas\u001b[0m \u001b[0mlgb\u001b[0m\u001b[1;33m\u001b[0m\u001b[0m\n\u001b[0;32m     12\u001b[0m \u001b[1;32mimport\u001b[0m \u001b[0mxgboost\u001b[0m \u001b[1;32mas\u001b[0m \u001b[0mxgb\u001b[0m\u001b[1;33m\u001b[0m\u001b[0m\n\u001b[1;32m---> 13\u001b[1;33m \u001b[1;32mimport\u001b[0m \u001b[0mcatboost\u001b[0m \u001b[1;32mas\u001b[0m \u001b[0mctb\u001b[0m\u001b[1;33m\u001b[0m\u001b[0m\n\u001b[0m\u001b[0;32m     14\u001b[0m \u001b[1;32mfrom\u001b[0m \u001b[0msklearn\u001b[0m\u001b[1;33m.\u001b[0m\u001b[0mlinear_model\u001b[0m \u001b[1;32mimport\u001b[0m \u001b[0mHuberRegressor\u001b[0m\u001b[1;33m\u001b[0m\u001b[0m\n\u001b[0;32m     15\u001b[0m \u001b[1;33m\u001b[0m\u001b[0m\n",
      "\u001b[1;32mD:\\Anaconda3\\lib\\site-packages\\catboost\\__init__.py\u001b[0m in \u001b[0;36m<module>\u001b[1;34m()\u001b[0m\n\u001b[1;32m----> 1\u001b[1;33m \u001b[1;32mfrom\u001b[0m \u001b[1;33m.\u001b[0m\u001b[0mcore\u001b[0m \u001b[1;32mimport\u001b[0m \u001b[0mFeaturesData\u001b[0m\u001b[1;33m,\u001b[0m \u001b[0mEFstrType\u001b[0m\u001b[1;33m,\u001b[0m \u001b[0mPool\u001b[0m\u001b[1;33m,\u001b[0m \u001b[0mCatBoost\u001b[0m\u001b[1;33m,\u001b[0m \u001b[0mCatBoostClassifier\u001b[0m\u001b[1;33m,\u001b[0m \u001b[0mCatBoostRegressor\u001b[0m\u001b[1;33m,\u001b[0m \u001b[0mCatBoostError\u001b[0m\u001b[1;33m,\u001b[0m \u001b[0mcv\u001b[0m\u001b[1;33m,\u001b[0m \u001b[0mtrain\u001b[0m\u001b[1;33m,\u001b[0m \u001b[0msum_models\u001b[0m  \u001b[1;31m# noqa\u001b[0m\u001b[1;33m\u001b[0m\u001b[0m\n\u001b[0m\u001b[0;32m      2\u001b[0m \u001b[1;32mfrom\u001b[0m \u001b[1;33m.\u001b[0m\u001b[0mversion\u001b[0m \u001b[1;32mimport\u001b[0m \u001b[0mVERSION\u001b[0m \u001b[1;32mas\u001b[0m \u001b[0m__version__\u001b[0m  \u001b[1;31m# noqa\u001b[0m\u001b[1;33m\u001b[0m\u001b[0m\n\u001b[0;32m      3\u001b[0m \u001b[0m__all__\u001b[0m \u001b[1;33m=\u001b[0m \u001b[1;33m[\u001b[0m\u001b[1;34m'FeaturesData'\u001b[0m\u001b[1;33m,\u001b[0m \u001b[1;34m'EFstrType'\u001b[0m\u001b[1;33m,\u001b[0m \u001b[1;34m'Pool'\u001b[0m\u001b[1;33m,\u001b[0m \u001b[1;34m'CatBoost'\u001b[0m\u001b[1;33m,\u001b[0m \u001b[1;34m'CatBoostClassifier'\u001b[0m\u001b[1;33m,\u001b[0m \u001b[1;34m'CatBoostRegressor'\u001b[0m\u001b[1;33m,\u001b[0m \u001b[1;34m'CatBoostError'\u001b[0m\u001b[1;33m,\u001b[0m \u001b[1;34m'CatboostError'\u001b[0m\u001b[1;33m,\u001b[0m \u001b[1;34m'cv'\u001b[0m\u001b[1;33m,\u001b[0m \u001b[1;34m'train'\u001b[0m\u001b[1;33m,\u001b[0m \u001b[1;34m'sum_models'\u001b[0m\u001b[1;33m]\u001b[0m\u001b[1;33m\u001b[0m\u001b[0m\n\u001b[0;32m      4\u001b[0m \u001b[1;33m\u001b[0m\u001b[0m\n\u001b[0;32m      5\u001b[0m \u001b[1;31m# API compatibility alias.\u001b[0m\u001b[1;33m\u001b[0m\u001b[1;33m\u001b[0m\u001b[0m\n",
      "\u001b[1;32mD:\\Anaconda3\\lib\\site-packages\\catboost\\core.py\u001b[0m in \u001b[0;36m<module>\u001b[1;34m()\u001b[0m\n\u001b[0;32m     58\u001b[0m \u001b[1;33m\u001b[0m\u001b[0m\n\u001b[0;32m     59\u001b[0m \u001b[1;33m\u001b[0m\u001b[0m\n\u001b[1;32m---> 60\u001b[1;33m \u001b[0m_catboost\u001b[0m \u001b[1;33m=\u001b[0m \u001b[0mget_catboost_bin_module\u001b[0m\u001b[1;33m(\u001b[0m\u001b[1;33m)\u001b[0m\u001b[1;33m\u001b[0m\u001b[0m\n\u001b[0m\u001b[0;32m     61\u001b[0m \u001b[0m_PoolBase\u001b[0m \u001b[1;33m=\u001b[0m \u001b[0m_catboost\u001b[0m\u001b[1;33m.\u001b[0m\u001b[0m_PoolBase\u001b[0m\u001b[1;33m\u001b[0m\u001b[0m\n\u001b[0;32m     62\u001b[0m \u001b[0m_CatBoost\u001b[0m \u001b[1;33m=\u001b[0m \u001b[0m_catboost\u001b[0m\u001b[1;33m.\u001b[0m\u001b[0m_CatBoost\u001b[0m\u001b[1;33m\u001b[0m\u001b[0m\n",
      "\u001b[1;32mD:\\Anaconda3\\lib\\site-packages\\catboost\\core.py\u001b[0m in \u001b[0;36mget_catboost_bin_module\u001b[1;34m()\u001b[0m\n\u001b[0;32m     49\u001b[0m     \u001b[1;32mfor\u001b[0m \u001b[0mso_path\u001b[0m \u001b[1;32min\u001b[0m \u001b[0mso_paths\u001b[0m\u001b[1;33m:\u001b[0m\u001b[1;33m\u001b[0m\u001b[0m\n\u001b[0;32m     50\u001b[0m         \u001b[1;32mtry\u001b[0m\u001b[1;33m:\u001b[0m\u001b[1;33m\u001b[0m\u001b[0m\n\u001b[1;32m---> 51\u001b[1;33m             \u001b[0mloaded_catboost\u001b[0m \u001b[1;33m=\u001b[0m \u001b[0mimp\u001b[0m\u001b[1;33m.\u001b[0m\u001b[0mload_dynamic\u001b[0m\u001b[1;33m(\u001b[0m\u001b[1;34m'_catboost'\u001b[0m\u001b[1;33m,\u001b[0m \u001b[0mso_path\u001b[0m\u001b[1;33m)\u001b[0m\u001b[1;33m\u001b[0m\u001b[0m\n\u001b[0m\u001b[0;32m     52\u001b[0m             \u001b[0msys\u001b[0m\u001b[1;33m.\u001b[0m\u001b[0mmodules\u001b[0m\u001b[1;33m[\u001b[0m\u001b[1;34m'catboost._catboost'\u001b[0m\u001b[1;33m]\u001b[0m \u001b[1;33m=\u001b[0m \u001b[0mloaded_catboost\u001b[0m\u001b[1;33m\u001b[0m\u001b[0m\n\u001b[0;32m     53\u001b[0m             \u001b[1;32mreturn\u001b[0m \u001b[0mloaded_catboost\u001b[0m\u001b[1;33m\u001b[0m\u001b[0m\n",
      "\u001b[1;32mD:\\Anaconda3\\lib\\imp.py\u001b[0m in \u001b[0;36mload_dynamic\u001b[1;34m(name, path, file)\u001b[0m\n\u001b[0;32m    341\u001b[0m         spec = importlib.machinery.ModuleSpec(\n\u001b[0;32m    342\u001b[0m             name=name, loader=loader, origin=path)\n\u001b[1;32m--> 343\u001b[1;33m         \u001b[1;32mreturn\u001b[0m \u001b[0m_load\u001b[0m\u001b[1;33m(\u001b[0m\u001b[0mspec\u001b[0m\u001b[1;33m)\u001b[0m\u001b[1;33m\u001b[0m\u001b[0m\n\u001b[0m\u001b[0;32m    344\u001b[0m \u001b[1;33m\u001b[0m\u001b[0m\n\u001b[0;32m    345\u001b[0m \u001b[1;32melse\u001b[0m\u001b[1;33m:\u001b[0m\u001b[1;33m\u001b[0m\u001b[0m\n",
      "\u001b[1;32m_catboost.pyx\u001b[0m in \u001b[0;36minit _catboost\u001b[1;34m()\u001b[0m\n",
      "\u001b[1;31mAttributeError\u001b[0m: type object '_catboost._FloatArrayWrapper' has no attribute '__reduce_cython__'"
     ]
    }
   ],
   "source": [
    "# import os\n",
    "# import warnings\n",
    "# import numpy as np\n",
    "# import pandas as pd\n",
    "# import matplotlib.pyplot as plt\n",
    "# import lightgbm as lgb\n",
    "# import time\n",
    "# from sklearn.linear_model import HuberRegressor\n",
    "# import sklearn.ensemble as tree_model\n",
    "# # from tqdm import tqdm\n",
    "# import datetime\n",
    "# pd.set_option('display.max_column',100)\n",
    "# warnings.filterwarnings('ignore')\n",
    "\n",
    "# %load_ext autoreload\n",
    "# %autoreload 2\n",
    "# from utils import make_dir, score, timer, kf_lgbm, kf_xgbm, kf_ctbm, kf_sklearn\n",
    "\n",
    "\n",
    "from utils import make_dir, score, timer, kf_lgbm, kf_xgbm, kf_ctbm, kf_sklearn"
   ]
  },
  {
   "cell_type": "code",
   "execution_count": 12,
   "metadata": {},
   "outputs": [
    {
     "data": {
      "text/plain": [
       "'0.19.0'"
      ]
     },
     "execution_count": 12,
     "metadata": {},
     "output_type": "execute_result"
    }
   ],
   "source": [
    "import sklearn\n",
    "sklearn.__version__  # important"
   ]
  },
  {
   "cell_type": "code",
   "execution_count": 2,
   "metadata": {},
   "outputs": [],
   "source": [
    "def make_features(df):\n",
    "    app_feature = [\n",
    "        '当月网购类应用使用次数',\n",
    "        '当月物流快递类应用使用次数',\n",
    "        '当月金融理财类应用使用总次数',\n",
    "        '当月视频播放类应用使用次数',\n",
    "        '当月飞机类应用使用次数',\n",
    "        '当月火车类应用使用次数',\n",
    "        '当月旅游资讯类应用使用次数',\n",
    "    ]\n",
    "    \n",
    "    for f in app_feature:\n",
    "        df['round_log1p'+f] = np.round(np.log1p(df[f])).astype(int)\n",
    "    \n",
    "    df['前五个月消费总费用'] = 6*df['用户近6个月平均消费值（元）'] - df['用户账单当月总费用（元）']\n",
    "    df['前五个月消费平均费用'] = df['前五个月消费总费用'] / 5\n",
    "    df['当月费用/前五个月消费平均费用'] = (df['用户账单当月总费用（元）']) \\\n",
    "                        / (1+df['前五个月消费平均费用'])\n",
    "    df['当月费用-前五个月消费平均费用'] = df['用户账单当月总费用（元）'] - df['前五个月消费平均费用']\n",
    "        \n",
    "    def make_count_feature(df, col, fea_name):\n",
    "        df['idx'] = range(len(df))\n",
    "        tmp = df.groupby(col)['用户编码'].agg([\n",
    "            (fea_name,'count')]).reset_index()\n",
    "        df = df.merge(tmp)\n",
    "        df = df.sort_values('idx').drop('idx',axis=1).reset_index(drop=True)\n",
    "        return df\n",
    "        \n",
    "    df = make_count_feature(df, '缴费用户最近一次缴费金额（元）','count_缴费')\n",
    "    df = make_count_feature(df, '用户账单当月总费用（元）','count_当月费用')\n",
    "    df = make_count_feature(df, '前五个月消费总费用', 'count_总费用')\n",
    "    df = make_count_feature(df, '当月费用-前五个月消费平均费用', 'count_费用差')\n",
    "    df = make_count_feature(df, '用户近6个月平均消费值（元）', 'count_平均费用')\n",
    "    df = make_count_feature(df, ['用户账单当月总费用（元）','用户近6个月平均消费值（元）'],\n",
    "                            'count_当月费用_平均费用')\n",
    "            \n",
    "    arr = df['缴费用户最近一次缴费金额（元）']\n",
    "    df['是否998折'] = ((arr/0.998)%1==0)&(arr!=0)\n",
    "    \n",
    "    df['年龄_0_as_nan'] = np.where(df['用户年龄']==0, [np.nan]*len(df), df['用户年龄'])\n",
    "    \n",
    "    return df\n",
    "    \n",
    "def load_df_and_make_features():\n",
    "    train_df = pd.read_csv('../input/train_dataset.csv')\n",
    "    test_df = pd.read_csv('../input/test_dataset.csv')\n",
    "    train_df['train'] = 1\n",
    "    test_df['train'] = 0\n",
    "    df = pd.concat([train_df,test_df])\n",
    "    df = make_features(df)\n",
    "    return df"
   ]
  },
  {
   "cell_type": "code",
   "execution_count": 7,
   "metadata": {},
   "outputs": [],
   "source": [
    "feature_name1 = \\\n",
    "['用户年龄',\n",
    " '用户网龄（月）',\n",
    " '用户实名制是否通过核实',\n",
    " '是否大学生客户',\n",
    " '是否4G不健康客户',\n",
    " '用户最近一次缴费距今时长（月）',\n",
    " '缴费用户最近一次缴费金额（元）',\n",
    " '用户近6个月平均消费值（元）',\n",
    " '用户账单当月总费用（元）',\n",
    " '用户当月账户余额（元）',\n",
    " '用户话费敏感度',\n",
    " '当月费用-前五个月消费平均费用',\n",
    " '前五个月消费总费用',\n",
    " 'count_缴费',\n",
    " 'count_当月费用',\n",
    " 'count_费用差',\n",
    " 'count_平均费用',\n",
    " 'count_当月费用_平均费用',\n",
    " '是否998折',\n",
    " '当月通话交往圈人数',\n",
    " '近三个月月均商场出现次数',\n",
    " '当月网购类应用使用次数',\n",
    " '当月物流快递类应用使用次数',\n",
    " '当月金融理财类应用使用总次数',\n",
    " '当月视频播放类应用使用次数',\n",
    " '当月飞机类应用使用次数',\n",
    " '当月火车类应用使用次数',\n",
    " '当月旅游资讯类应用使用次数',\n",
    " '当月是否逛过福州仓山万达',\n",
    " '当月是否到过福州山姆会员店',\n",
    " '当月是否看电影',\n",
    " '当月是否景点游览',\n",
    " '当月是否体育场馆消费',\n",
    " '是否经常逛商场的人',\n",
    " '是否黑名单客户',\n",
    " '缴费用户当前是否欠费缴费']"
   ]
  },
  {
   "cell_type": "code",
   "execution_count": 8,
   "metadata": {},
   "outputs": [],
   "source": [
    "df = load_df_and_make_features()\n",
    "train_df = df[df['train']==1]\n",
    "test_df = df[df['train']!=1]"
   ]
  },
  {
   "cell_type": "code",
   "execution_count": 9,
   "metadata": {},
   "outputs": [],
   "source": [
    "# now = str(datetime.datetime.now()).split('.')[0]\n",
    "# now=now.replace(' ','_')\n",
    "# now=now.replace(':','-')\n",
    "# output_dir = 'lgb'+now\n",
    "output_dir = './stacking_files/' "
   ]
  },
  {
   "cell_type": "code",
   "execution_count": 10,
   "metadata": {},
   "outputs": [
    {
     "name": "stdout",
     "output_type": "stream",
     "text": [
      "\n",
      "================================================== Fold 1 ==================================================\n",
      "\n",
      "================================================== Fold 2 ==================================================\n",
      "\n",
      "================================================== Fold 3 ==================================================\n",
      "\n",
      "================================================== Fold 4 ==================================================\n",
      "\n",
      "================================================== Fold 5 ==================================================\n",
      "\n",
      "================================================== Fold 6 ==================================================\n",
      "\n",
      "================================================== Fold 7 ==================================================\n",
      "\n",
      "================================================== Fold 8 ==================================================\n",
      "\n",
      "================================================== Fold 9 ==================================================\n",
      "\n",
      "================================================== Fold 10 ==================================================\n",
      "====================================================================================================\n",
      "0.06346825085046895\t0.06372185540310606\t0.06367767396765615\t0.06259380135703212\t0.06422620419052417\t0.06311742509937894\t0.06224848320336987\t0.06365741710065814\t0.0630799703579013\t0.06409439437787766\n",
      "min score: 0.062248\n",
      "max score: 0.064226\n",
      "median score: 0.063563\n",
      "mean score: 0.063389\n",
      "[601.2367414  539.24397877 668.88268679 676.32896078 656.88602558\n",
      " 614.31793095 640.64266159 567.75338577 673.51614542 587.18410318]\n"
     ]
    }
   ],
   "source": [
    "x, y = train_df[feature_name1], train_df['信用分'].values\n",
    "x_test = test_df[feature_name1]\n",
    "\n",
    "model = kf_sklearn(x=x,y=y,x_test=x_test,output_dir=output_dir,name=\"gotcha_gbdt1\",\n",
    "                   model_class=tree_model.GradientBoostingRegressor, \n",
    "                   n_estimators=250,subsample=0.8,min_samples_leaf=10,\n",
    "                   max_depth=7,loss='huber',random_state=2019)"
   ]
  },
  {
   "cell_type": "code",
   "execution_count": null,
   "metadata": {},
   "outputs": [],
   "source": []
  }
 ],
 "metadata": {
  "kernelspec": {
   "display_name": "Python [default]",
   "language": "python",
   "name": "python3"
  }
 },
 "nbformat": 4,
 "nbformat_minor": 1
}
